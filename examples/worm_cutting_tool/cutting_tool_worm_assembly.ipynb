{
 "cells": [
  {
   "cell_type": "markdown",
   "id": "5e24589a-461d-46b5-8141-37f948dcf4dc",
   "metadata": {},
   "source": [
    "# cutting tool for a worm gear\n",
    "\n",
    "1. idea 1:  \n",
    "\n",
    "<img src=\"../../docs/computing a profile_from_a_given_rack.jpg\">"
   ]
  },
  {
   "cell_type": "code",
   "execution_count": 4,
   "id": "7eacf041-aa83-49e2-9cbe-066f177197f6",
   "metadata": {},
   "outputs": [],
   "source": [
    "import sympy as sp\n",
    "import numpy as np"
   ]
  },
  {
   "cell_type": "code",
   "execution_count": 5,
   "id": "980417d0-c79d-4501-a7cc-9725b3bbea83",
   "metadata": {},
   "outputs": [],
   "source": [
    "def symbolic_transformation(angle, axis, translation=np.array([0., 0., 0.])):\n",
    "    \"\"\"\n",
    "        see http://en.wikipedia.org/wiki/SO%284%29#The_Euler.E2.80.93Rodrigues_formula_for_3D_rotations\n",
    "        sympy enabled transformation\n",
    "        angle: angle of rotation\n",
    "        axis: the axis of the rotation\n",
    "        translation: translation of transformation\n",
    "    \"\"\"\n",
    "    assert len(axis) == 3\n",
    "    a = sp.cos(angle / 2)\n",
    "    axis_normalized = axis / sp.sqrt(axis.dot(axis))\n",
    "    (b, c, d) = -axis_normalized * sp.sin(angle / 2)\n",
    "    mat = sp.Matrix(\n",
    "        [\n",
    "            [\n",
    "                a**2 + b**2 - c**2 - d**2,\n",
    "                2 * (b * c - a * d),\n",
    "                2 * (b * d + a * c),\n",
    "                translation[0],\n",
    "            ],\n",
    "            [\n",
    "                2 * (b * c + a * d),\n",
    "                a**2 + c**2 - b**2 - d**2,\n",
    "                2 * (c * d - a * b),\n",
    "                translation[1],\n",
    "            ],\n",
    "            [\n",
    "                2 * (b * d - a * c),\n",
    "                2 * (c * d + a * b),\n",
    "                a**2 + d**2 - b**2 - c**2,\n",
    "                translation[2],\n",
    "            ],\n",
    "            [0.0, 0.0, 0.0, 1.0],\n",
    "        ]\n",
    "    )\n",
    "    return sp.simplify(mat)\n"
   ]
  },
  {
   "cell_type": "code",
   "execution_count": 7,
   "id": "5852aa56-e66b-4f3c-a50d-0cb4cb21abd2",
   "metadata": {},
   "outputs": [],
   "source": [
    "t = sp.Symbol(\"t\")\n",
    "T1 = symbolic_transformation(np.pi / 2.,\n",
    "                             np.array([1., 0., 0.]),\n",
    "                             np.array([12.5,0., 1.15]))\n",
    "T2 = symbolic_transformation(-t / 7.5,\n",
    "                             np.array([0., 0., 1.]),\n",
    "                             np.array([0., 0., 0.]))\n",
    "T3 = symbolic_transformation(0.,\n",
    "                             np.array([1., 0., 0.]),\n",
    "                             np.array([0., 0., t]))\n",
    "\n",
    "T = sp.nsimplify(T2.inv() @ T1.inv() @ T3, tolerance=10e-16)"
   ]
  },
  {
   "cell_type": "code",
   "execution_count": 8,
   "id": "7c9837b8-caf7-4447-bf0d-eba9085197a5",
   "metadata": {},
   "outputs": [
    {
     "data": {
      "text/plain": [
       "array([[ 0.        ,  0.        , -0.13333333,  0.15333333],\n",
       "       [-0.13333333,  0.        ,  0.        ,  0.66666667],\n",
       "       [ 0.        ,  0.        ,  0.        ,  0.        ],\n",
       "       [ 0.        ,  0.        ,  0.        ,  0.        ]])"
      ]
     },
     "execution_count": 8,
     "metadata": {},
     "output_type": "execute_result"
    }
   ],
   "source": [
    "T_fn = sp.lambdify(t, T)\n",
    "dT_fn = sp.lambdify(t, T.diff(t))\n",
    "dT_fn(0.)"
   ]
  },
  {
   "cell_type": "markdown",
   "id": "e4354a36-409a-40a6-8f4f-bb5a6c84f3b7",
   "metadata": {},
   "source": [
    "Diese Methode funktioniert nicht, weil die Bedingung zur Bestimmung des Kontaktpunktes falsch ist.\n",
    "Eine Bedingung für die generierung einer konstanten Übersetzung ist, dass die Normale auf die Kontaktfläche (Zahnstange) immer durch den Punkt p (Eingriffspunkt für Ersatzzahnrad (Zylinder) und Ersatzzahnstange (Quader) gehen muss.\n",
    "Gesucht sind also Punkte auf der Fläche S welche verbunden mit P normal auf die Fläche stehen. Dies kann auch als minimaler Abstand von P zur Fläche gesehen werden.\n",
    "\n",
    "für jedes u: min(norm(S(u,v)-P)) -> d(norm(S(u,v)-P)/dv = 0\n",
    "die Änderung des Abstands ist 0 -> die Gerade steht normal auf die Fläche\n"
   ]
  },
  {
   "cell_type": "markdown",
   "id": "43f00b65-c05c-4734-8c5a-e7845a6f4dff",
   "metadata": {},
   "source": [
    "## Vorgehensweise\n",
    "\n",
    "1. approximate the surface by a BSplineSurface\n",
    "\n",
    "- Erstellen eines \"Cross-Sektion\" objekts aus dem \"Werkzeug\"\n",
    "\n",
    "<img src=\"cross_section.png\">  \n",
    "\n",
    "- Draft downgrade um Kanten zu bekommen\n",
    "das Cross-section Objekt beinhaltet nicht die anfangs und end Kanten. Diese müssen zusätzlich vom Werkzeug extrahiert werden\n",
    "\n",
    "- Part Loft zum erstellen einer schönen BSplinefläche\n",
    "\n",
    "<img src=\"loft_bspline_flaechen.png\"> \n",
    "\n",
    "3. Loft -> Surface\n",
    "\n",
    "```python\n",
    "# select the cutting faces\n",
    "face_1 = App.ActiveDocument.Loft.Shape.Faces[0].copy()\n",
    "face_2 = App.ActiveDocument.Loft001.Shape.Faces[0].copy()\n",
    "\n",
    "# compute the contact curve:\n",
    "bsp_1 = face_1.Surface\n",
    "bsp_2 = face_2.Surface\n",
    "\n",
    "```\n",
    "\n",
    "4. Minimierung des Abstands zum \"Pitch-Punkt\"\n",
    "\n",
    "```python\n",
    "import scipy as scp\n",
    "point = App.Vector(5., 0., 1.15 - time) \n",
    "xyz_1 = []\n",
    "for v in np.linspace(0, 1, 5):\n",
    "        def dist_1(u):\n",
    "            distance = bsp_1.value(u, v) - point\n",
    "            return distance.x ** 2 + distance.z ** 2\n",
    "        u_1 = scp.optimize.minimize(dist_1, 0.5, tol=1e-6).x[0]\n",
    "        xyz_1.append(bsp_1.value(u_1, v))\n",
    "```\n",
    "\n",
    "5. erstellen einer B-Spline Kurve welche durch die Kinematik T transformiert wird\n",
    "\n",
    "```python\n",
    "c_1 = part.BSplineCurve()\n",
    "c_1.interpolate(Points=xyz_1)\n",
    "c_1 = c_1.toShape()\n",
    "\n",
    "part.show(c_1.transformShape(T))\n",
    "```\n",
    "\n",
    "6. Loft anwenden auf die erstellten BSpline Kurven\n",
    "\n",
    "<img src=\"loft_of_generated_bsplines.png\">\n",
    "\n",
    "7. Array für das Zahnrad\n",
    "\n",
    "<img src=\"gear_assembly.png\">"
   ]
  },
  {
   "cell_type": "code",
   "execution_count": 6,
   "id": "cfd8026b-5a84-4882-a1de-63580776a579",
   "metadata": {},
   "outputs": [],
   "source": [
    "import sympy as sp\n",
    "t, x, z = sp.symbols([\"t\", \"x\", \"z\"], real=True)\n",
    "s, alpha, n_t, y = sp.symbols([\"s\", \"alpha\", \"n_t\", \"y\"], real=True, positiv=True)"
   ]
  },
  {
   "cell_type": "code",
   "execution_count": 7,
   "id": "65bb90d7-0f5b-410e-9a3a-0f9953a4d846",
   "metadata": {},
   "outputs": [
    {
     "data": {
      "text/latex": [
       "$\\displaystyle \\left[\\begin{matrix}\\cos{\\left(\\frac{n_{t} t}{\\pi} \\right)} & \\sin{\\left(\\frac{n_{t} t}{\\pi} \\right)} & 0 & 0\\\\- \\sin{\\left(\\frac{n_{t} t}{\\pi} \\right)} & \\cos{\\left(\\frac{n_{t} t}{\\pi} \\right)} & 0 & 0\\\\0 & 0 & 1 & n_{t} t\\\\0 & 0 & 0 & 1.0\\end{matrix}\\right]$"
      ],
      "text/plain": [
       "Matrix([\n",
       "[ cos(n_t*t/pi), sin(n_t*t/pi), 0,     0],\n",
       "[-sin(n_t*t/pi), cos(n_t*t/pi), 0,     0],\n",
       "[             0,             0, 1, n_t*t],\n",
       "[             0,             0, 0,   1.0]])"
      ]
     },
     "execution_count": 7,
     "metadata": {},
     "output_type": "execute_result"
    }
   ],
   "source": [
    "T_spiral = symbolic_transformation(t * n_t / sp.pi, np.array([0, 0, 1]), np.array([0, 0, t * n_t]))\n",
    "T_spiral"
   ]
  },
  {
   "cell_type": "code",
   "execution_count": 22,
   "id": "0f305b8b-0fb5-4b71-80b6-9a2b43b59e26",
   "metadata": {},
   "outputs": [
    {
     "data": {
      "text/latex": [
       "$\\displaystyle \\left[\\begin{matrix}0\\\\s \\cos{\\left(\\alpha \\right)}\\\\s \\sin{\\left(\\alpha \\right)}\\\\1\\end{matrix}\\right]$"
      ],
      "text/plain": [
       "Matrix([\n",
       "[           0],\n",
       "[s*cos(alpha)],\n",
       "[s*sin(alpha)],\n",
       "[           1]])"
      ]
     },
     "execution_count": 22,
     "metadata": {},
     "output_type": "execute_result"
    }
   ],
   "source": [
    "l = sp.Matrix([0, s * sp.cos(alpha), s * sp.sin(alpha), 1])\n",
    "l"
   ]
  },
  {
   "cell_type": "code",
   "execution_count": 23,
   "id": "da3c8575-99ad-4258-8734-c165ea65b014",
   "metadata": {},
   "outputs": [
    {
     "data": {
      "text/latex": [
       "$\\displaystyle \\left[\\begin{matrix}s \\sin{\\left(\\frac{n_{t} t}{\\pi} \\right)} \\cos{\\left(\\alpha \\right)}\\\\s \\cos{\\left(\\alpha \\right)} \\cos{\\left(\\frac{n_{t} t}{\\pi} \\right)}\\\\n_{t} t + s \\sin{\\left(\\alpha \\right)}\\\\1.0\\end{matrix}\\right]$"
      ],
      "text/plain": [
       "Matrix([\n",
       "[s*sin(n_t*t/pi)*cos(alpha)],\n",
       "[s*cos(alpha)*cos(n_t*t/pi)],\n",
       "[      n_t*t + s*sin(alpha)],\n",
       "[                       1.0]])"
      ]
     },
     "execution_count": 23,
     "metadata": {},
     "output_type": "execute_result"
    }
   ],
   "source": [
    "spiral = (T_spiral @ l)\n",
    "spiral"
   ]
  },
  {
   "cell_type": "code",
   "execution_count": 32,
   "id": "e47eb83b-6e89-4246-a82a-bd5629aedc2a",
   "metadata": {},
   "outputs": [
    {
     "data": {
      "text/latex": [
       "$\\displaystyle \\frac{\\pi \\operatorname{asin}{\\left(\\frac{x}{s \\cos{\\left(\\alpha \\right)}} \\right)}}{n_{t}}$"
      ],
      "text/plain": [
       "pi*asin(x/(s*cos(alpha)))/n_t"
      ]
     },
     "execution_count": 32,
     "metadata": {},
     "output_type": "execute_result"
    }
   ],
   "source": [
    "x_cross_section = sp.simplify(sp.solve(spiral[0] - x, t)[1])\n",
    "x_cross_section  # parameter s"
   ]
  },
  {
   "cell_type": "code",
   "execution_count": 33,
   "id": "c2954b39-eea0-4e27-987f-07a5d0dedaad",
   "metadata": {},
   "outputs": [
    {
     "data": {
      "text/latex": [
       "$\\displaystyle \\left[\\begin{matrix}x\\\\s \\sqrt{1 - \\frac{x^{2}}{s^{2} \\cos^{2}{\\left(\\alpha \\right)}}} \\cos{\\left(\\alpha \\right)}\\\\s \\sin{\\left(\\alpha \\right)} + \\pi \\operatorname{asin}{\\left(\\frac{x}{s \\cos{\\left(\\alpha \\right)}} \\right)}\\\\1.0\\end{matrix}\\right]$"
      ],
      "text/plain": [
       "Matrix([\n",
       "[                                               x],\n",
       "[s*sqrt(1 - x**2/(s**2*cos(alpha)**2))*cos(alpha)],\n",
       "[        s*sin(alpha) + pi*asin(x/(s*cos(alpha)))],\n",
       "[                                             1.0]])"
      ]
     },
     "execution_count": 33,
     "metadata": {},
     "output_type": "execute_result"
    }
   ],
   "source": [
    "spiral_x = sp.simplify(spiral.subs({t: x_cross_section}))\n",
    "spiral_x"
   ]
  },
  {
   "cell_type": "code",
   "execution_count": 43,
   "id": "268c6302-4e7d-45e0-be28-1b64cf8b766e",
   "metadata": {},
   "outputs": [
    {
     "data": {
      "text/latex": [
       "$\\displaystyle \\frac{\\sqrt{x^{2} + y^{2}}}{\\cos{\\left(\\alpha \\right)}}$"
      ],
      "text/plain": [
       "sqrt(x**2 + y**2)/cos(alpha)"
      ]
     },
     "execution_count": 43,
     "metadata": {},
     "output_type": "execute_result"
    }
   ],
   "source": [
    "y_cross_section = sp.simplify(sp.solve(spiral_x[1]- y, s)[0])\n",
    "y_cross_section"
   ]
  },
  {
   "cell_type": "code",
   "execution_count": 44,
   "id": "7284bd6a-b47b-483c-8e9f-79fcaecce5e3",
   "metadata": {},
   "outputs": [
    {
     "data": {
      "text/latex": [
       "$\\displaystyle \\left[\\begin{matrix}x\\\\\\left|{y}\\right|\\\\\\sqrt{x^{2} + y^{2}} \\tan{\\left(\\alpha \\right)} + \\pi \\operatorname{asin}{\\left(\\frac{x}{\\sqrt{x^{2} + y^{2}}} \\right)}\\\\1.0\\end{matrix}\\right]$"
      ],
      "text/plain": [
       "Matrix([\n",
       "[                                                          x],\n",
       "[                                                     Abs(y)],\n",
       "[sqrt(x**2 + y**2)*tan(alpha) + pi*asin(x/sqrt(x**2 + y**2))],\n",
       "[                                                        1.0]])"
      ]
     },
     "execution_count": 44,
     "metadata": {},
     "output_type": "execute_result"
    }
   ],
   "source": [
    "spiral_xy = sp.simplify(spiral_x.subs({s: y_cross_section}))\n",
    "spiral_xy"
   ]
  },
  {
   "cell_type": "code",
   "execution_count": null,
   "id": "82e6880a-7240-44a4-a346-4fc45e24971b",
   "metadata": {},
   "outputs": [],
   "source": []
  }
 ],
 "metadata": {
  "kernelspec": {
   "display_name": "Python 3 (ipykernel)",
   "language": "python",
   "name": "python3"
  },
  "language_info": {
   "codemirror_mode": {
    "name": "ipython",
    "version": 3
   },
   "file_extension": ".py",
   "mimetype": "text/x-python",
   "name": "python",
   "nbconvert_exporter": "python",
   "pygments_lexer": "ipython3",
   "version": "3.11.0"
  }
 },
 "nbformat": 4,
 "nbformat_minor": 5
}
